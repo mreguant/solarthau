{
 "cells": [
  {
   "cell_type": "markdown",
   "metadata": {},
   "source": [
    "# Solar Thau - Visualitzem la producció solar"
   ]
  },
  {
   "cell_type": "markdown",
   "metadata": {},
   "source": [
    "### 1) Carreguem les dades i preparem algunes variables pels grafics"
   ]
  },
  {
   "cell_type": "code",
   "execution_count": 1,
   "metadata": {},
   "outputs": [],
   "source": [
    "import pandas as pd\n",
    "import numpy as np\n",
    "import plotly.express as px\n",
    "import ipywidgets as widgets\n",
    "\n",
    "# Load the dataset\n",
    "df = pd.read_csv(\"data_solarthau_lite.csv\")\n",
    "\n",
    "# Compute net consumption\n",
    "df[\"netConsumption\"] = df[\"kWh\"] - df[\"solar_kWh\"]\n",
    "\n",
    "# Dropdown for month selection\n",
    "month_selector = widgets.Dropdown(\n",
    "    options=[(f\"Month {i}\", i) for i in range(1, 13)], \n",
    "    value=1,\n",
    "    description=\"Month:\"\n",
    ")\n",
    "\n",
    "# kW range slider\n",
    "kw_range = widgets.FloatSlider(value=200.0, min=0.0, max=200.0, step=10.0, description=\"Kw:\")\n",
    "\n",
    "# Price range slider\n",
    "price_range = widgets.FloatSlider(value=5.0, min=0.0, max=300.0, step=0.05, description=\"Price for solar output:\")\n",
    "\n",
    "# Avoided emission range slider\n",
    "avoided_emission_range = widgets.FloatSlider(value=0.35, min=0.0, max=1.0, step=0.05, description=\"Avoided Emission:\")"
   ]
  },
  {
   "cell_type": "code",
   "execution_count": 2,
   "metadata": {},
   "outputs": [
    {
     "data": {
      "text/html": [
       "<div>\n",
       "<style scoped>\n",
       "    .dataframe tbody tr th:only-of-type {\n",
       "        vertical-align: middle;\n",
       "    }\n",
       "\n",
       "    .dataframe tbody tr th {\n",
       "        vertical-align: top;\n",
       "    }\n",
       "\n",
       "    .dataframe thead th {\n",
       "        text-align: right;\n",
       "    }\n",
       "</style>\n",
       "<table border=\"1\" class=\"dataframe\">\n",
       "  <thead>\n",
       "    <tr style=\"text-align: right;\">\n",
       "      <th></th>\n",
       "      <th>month</th>\n",
       "      <th>day</th>\n",
       "      <th>hour</th>\n",
       "      <th>dow</th>\n",
       "      <th>kWh</th>\n",
       "      <th>solar_kWh</th>\n",
       "      <th>netConsumption</th>\n",
       "    </tr>\n",
       "  </thead>\n",
       "  <tbody>\n",
       "    <tr>\n",
       "      <th>0</th>\n",
       "      <td>1</td>\n",
       "      <td>1</td>\n",
       "      <td>0</td>\n",
       "      <td>5</td>\n",
       "      <td>29</td>\n",
       "      <td>0.0</td>\n",
       "      <td>29.0</td>\n",
       "    </tr>\n",
       "    <tr>\n",
       "      <th>1</th>\n",
       "      <td>1</td>\n",
       "      <td>1</td>\n",
       "      <td>1</td>\n",
       "      <td>5</td>\n",
       "      <td>27</td>\n",
       "      <td>0.0</td>\n",
       "      <td>27.0</td>\n",
       "    </tr>\n",
       "    <tr>\n",
       "      <th>2</th>\n",
       "      <td>1</td>\n",
       "      <td>1</td>\n",
       "      <td>2</td>\n",
       "      <td>5</td>\n",
       "      <td>29</td>\n",
       "      <td>0.0</td>\n",
       "      <td>29.0</td>\n",
       "    </tr>\n",
       "    <tr>\n",
       "      <th>3</th>\n",
       "      <td>1</td>\n",
       "      <td>1</td>\n",
       "      <td>3</td>\n",
       "      <td>5</td>\n",
       "      <td>27</td>\n",
       "      <td>0.0</td>\n",
       "      <td>27.0</td>\n",
       "    </tr>\n",
       "    <tr>\n",
       "      <th>4</th>\n",
       "      <td>1</td>\n",
       "      <td>1</td>\n",
       "      <td>4</td>\n",
       "      <td>5</td>\n",
       "      <td>25</td>\n",
       "      <td>0.0</td>\n",
       "      <td>25.0</td>\n",
       "    </tr>\n",
       "  </tbody>\n",
       "</table>\n",
       "</div>"
      ],
      "text/plain": [
       "   month  day  hour  dow  kWh  solar_kWh  netConsumption\n",
       "0      1    1     0    5   29        0.0            29.0\n",
       "1      1    1     1    5   27        0.0            27.0\n",
       "2      1    1     2    5   29        0.0            29.0\n",
       "3      1    1     3    5   27        0.0            27.0\n",
       "4      1    1     4    5   25        0.0            25.0"
      ]
     },
     "execution_count": 2,
     "metadata": {},
     "output_type": "execute_result"
    }
   ],
   "source": [
    "df.head()"
   ]
  },
  {
   "cell_type": "markdown",
   "metadata": {},
   "source": [
    "### 2) Dibuixem el consum per mes"
   ]
  },
  {
   "cell_type": "code",
   "execution_count": 3,
   "metadata": {},
   "outputs": [
    {
     "data": {
      "application/vnd.plotly.v1+json": {
       "config": {
        "plotlyServerURL": "https://plot.ly"
       },
       "data": [
        {
         "hovertemplate": "variable=kWh<br>month=1<br>Hour of Day=%{x}<br>Energy (kWh)=%{y}<extra></extra>",
         "legendgroup": "kWh",
         "line": {
          "color": "#636efa",
          "dash": "solid"
         },
         "marker": {
          "symbol": "circle"
         },
         "mode": "lines",
         "name": "kWh",
         "orientation": "v",
         "showlegend": true,
         "type": "scatter",
         "x": [
          "0:00",
          "1:00",
          "2:00",
          "3:00",
          "4:00",
          "5:00",
          "6:00",
          "7:00",
          "8:00",
          "9:00",
          "10:00",
          "11:00",
          "12:00",
          "13:00",
          "14:00",
          "15:00",
          "16:00",
          "17:00",
          "18:00",
          "19:00",
          "20:00",
          "21:00",
          "22:00",
          "23:00"
         ],
         "xaxis": "x9",
         "y": {
          "bdata": "lVJKKaUUQ0AppZRSSqlCQHTOOeec80pAttZaa621TECllFJKKaVOQDrnnHPOuU9ACCGEEEIIUkCttdZaa21VQAghhBBCyFxA33vvvfdeXECdc84555xbQHTOOeecM1xAvvfee+/9W0DnnHPOOedbQGuttdZa61tAa6211lprW0CllFJKKaVVQL733nvvvVVAhBBCCCGEWkCllFJKKWVVQN9777333lBAW2uttdbaSUCMMcYYYwxGQFtrrbXW2kVA",
          "dtype": "f8"
         },
         "yaxis": "y9"
        },
        {
         "hovertemplate": "variable=kWh<br>month=2<br>Hour of Day=%{x}<br>Energy (kWh)=%{y}<extra></extra>",
         "legendgroup": "kWh",
         "line": {
          "color": "#636efa",
          "dash": "solid"
         },
         "marker": {
          "symbol": "circle"
         },
         "mode": "lines",
         "name": "kWh",
         "orientation": "v",
         "showlegend": false,
         "type": "scatter",
         "x": [
          "0:00",
          "1:00",
          "2:00",
          "3:00",
          "4:00",
          "5:00",
          "6:00",
          "7:00",
          "8:00",
          "9:00",
          "10:00",
          "11:00",
          "12:00",
          "13:00",
          "14:00",
          "15:00",
          "16:00",
          "17:00",
          "18:00",
          "19:00",
          "20:00",
          "21:00",
          "22:00",
          "23:00"
         ],
         "xaxis": "x10",
         "y": {
          "bdata": "kiRJkiSJQkAlSZIkSZJCQAAAAAAA4E1AkiRJkiSpT0Bu27Zt26ZQQCVJkiRJck9Abtu2bdvGUUAlSZIkScJUQNu2bdu2jV1AAAAAAAAQXkDbtm3btm1eQLdt27Zta2BAAAAAAACwX0BJkiRJkrRgQG7btm3bXmBAt23btm27X0CSJEmSJBlXQNu2bdu2DVdAJUmSJEnyW0Dbtm3btp1XQG7btm3bhlJAAAAAAABgSkAAAAAAACBFQLdt27Zte0RA",
          "dtype": "f8"
         },
         "yaxis": "y10"
        },
        {
         "hovertemplate": "variable=kWh<br>month=3<br>Hour of Day=%{x}<br>Energy (kWh)=%{y}<extra></extra>",
         "legendgroup": "kWh",
         "line": {
          "color": "#636efa",
          "dash": "solid"
         },
         "marker": {
          "symbol": "circle"
         },
         "mode": "lines",
         "name": "kWh",
         "orientation": "v",
         "showlegend": false,
         "type": "scatter",
         "x": [
          "0:00",
          "1:00",
          "2:00",
          "3:00",
          "4:00",
          "5:00",
          "6:00",
          "7:00",
          "8:00",
          "9:00",
          "10:00",
          "11:00",
          "12:00",
          "13:00",
          "14:00",
          "15:00",
          "16:00",
          "17:00",
          "18:00",
          "19:00",
          "20:00",
          "21:00",
          "22:00",
          "23:00"
         ],
         "xaxis": "x11",
         "y": {
          "bdata": "AAAAAACAQECVUkoppZRAQHzvvffee0pAjDHGGGMMS0CVUkoppRRNQNdaa6211ktASimllFJKUEDfe++9955SQJ1zzjnnHFpACCGEEEJIWkDGGGOMMcZYQKWUUkopJVpAfO+99947W0D43nvvvXddQCmllFJKqVxAOuecc855W0DnnHPOOWdUQK211lprLVRApZRSSillVEA655xzzvlTQDrnnHPOuVBA77333nvvSEC21lprrTVDQDMzMzMzM0JA",
          "dtype": "f8"
         },
         "yaxis": "y11"
        },
        {
         "hovertemplate": "variable=kWh<br>month=4<br>Hour of Day=%{x}<br>Energy (kWh)=%{y}<extra></extra>",
         "legendgroup": "kWh",
         "line": {
          "color": "#636efa",
          "dash": "solid"
         },
         "marker": {
          "symbol": "circle"
         },
         "mode": "lines",
         "name": "kWh",
         "orientation": "v",
         "showlegend": false,
         "type": "scatter",
         "x": [
          "0:00",
          "1:00",
          "2:00",
          "3:00",
          "4:00",
          "5:00",
          "6:00",
          "7:00",
          "8:00",
          "9:00",
          "10:00",
          "11:00",
          "12:00",
          "13:00",
          "14:00",
          "15:00",
          "16:00",
          "17:00",
          "18:00",
          "19:00",
          "20:00",
          "21:00",
          "22:00",
          "23:00"
         ],
         "xaxis": "x12",
         "y": {
          "bdata": "vLu7u7s7QEDv7u7u7u49QN7d3d3dnUZAd3d3d3c3SEAAAAAAAIBJQGZmZmZmZklARERERETETUCamZmZmblRQCIiIiIigllAZmZmZmZGWkAAAAAAAIBZQAAAAAAAQFpAZmZmZmbmWkDNzMzMzKxdQAAAAAAAAF1AzczMzMwMW0De3d3d3T1TQEREREREZFJAZmZmZmZGUUDNzMzMzExMQCIiIiIiIk1AVVVVVVXVSkDNzMzMzIxDQImIiIiICEJA",
          "dtype": "f8"
         },
         "yaxis": "y12"
        },
        {
         "hovertemplate": "variable=kWh<br>month=5<br>Hour of Day=%{x}<br>Energy (kWh)=%{y}<extra></extra>",
         "legendgroup": "kWh",
         "line": {
          "color": "#636efa",
          "dash": "solid"
         },
         "marker": {
          "symbol": "circle"
         },
         "mode": "lines",
         "name": "kWh",
         "orientation": "v",
         "showlegend": false,
         "type": "scatter",
         "x": [
          "0:00",
          "1:00",
          "2:00",
          "3:00",
          "4:00",
          "5:00",
          "6:00",
          "7:00",
          "8:00",
          "9:00",
          "10:00",
          "11:00",
          "12:00",
          "13:00",
          "14:00",
          "15:00",
          "16:00",
          "17:00",
          "18:00",
          "19:00",
          "20:00",
          "21:00",
          "22:00",
          "23:00"
         ],
         "xaxis": "x5",
         "y": {
          "bdata": "KaWUUkopPUBCCCGEEEI6QIQQQgghhDpAW2uttdZaOEAhhBBCCCE8QCmllFJKKUBA33vvvfdeRUCdc8455xxIQO+99957r1NArbXWWmvtVEBba6211ppUQDLGGGOMsVZAGWOMMcbYV0CVUkoppRRaQCGEEEIIoVdAW2uttdYaVkCdc8455xxNQL733nvvPUpASimllFJKR0AhhBBCCCFFQEoppZRSSkRAnXPOOeecR0ARQgghhBBDQCmllFJKKUFA",
          "dtype": "f8"
         },
         "yaxis": "y5"
        },
        {
         "hovertemplate": "variable=kWh<br>month=6<br>Hour of Day=%{x}<br>Energy (kWh)=%{y}<extra></extra>",
         "legendgroup": "kWh",
         "line": {
          "color": "#636efa",
          "dash": "solid"
         },
         "marker": {
          "symbol": "circle"
         },
         "mode": "lines",
         "name": "kWh",
         "orientation": "v",
         "showlegend": false,
         "type": "scatter",
         "x": [
          "0:00",
          "1:00",
          "2:00",
          "3:00",
          "4:00",
          "5:00",
          "6:00",
          "7:00",
          "8:00",
          "9:00",
          "10:00",
          "11:00",
          "12:00",
          "13:00",
          "14:00",
          "15:00",
          "16:00",
          "17:00",
          "18:00",
          "19:00",
          "20:00",
          "21:00",
          "22:00",
          "23:00"
         ],
         "xaxis": "x6",
         "y": {
          "bdata": "iYiIiIgIQEAzMzMzM7M8QCIiIiIiIjpAd3d3d3d3OkAiIiIiIiI6QERERERERD1A3t3d3d0dREDNzMzMzIxHQGZmZmZmJlVAmpmZmZkZV0BVVVVVVfVXQCIiIiIiIltAZmZmZmYGXEC8u7u7uxtfQCIiIiIiIl1AMzMzMzOzW0CJiIiIiKhTQEREREREpFBARERERESETEAzMzMzMzNIQLy7u7u7+0VA7+7u7u6uR0De3d3d3Z1FQDMzMzMzs0JA",
          "dtype": "f8"
         },
         "yaxis": "y6"
        },
        {
         "hovertemplate": "variable=kWh<br>month=7<br>Hour of Day=%{x}<br>Energy (kWh)=%{y}<extra></extra>",
         "legendgroup": "kWh",
         "line": {
          "color": "#636efa",
          "dash": "solid"
         },
         "marker": {
          "symbol": "circle"
         },
         "mode": "lines",
         "name": "kWh",
         "orientation": "v",
         "showlegend": false,
         "type": "scatter",
         "x": [
          "0:00",
          "1:00",
          "2:00",
          "3:00",
          "4:00",
          "5:00",
          "6:00",
          "7:00",
          "8:00",
          "9:00",
          "10:00",
          "11:00",
          "12:00",
          "13:00",
          "14:00",
          "15:00",
          "16:00",
          "17:00",
          "18:00",
          "19:00",
          "20:00",
          "21:00",
          "22:00",
          "23:00"
         ],
         "xaxis": "x7",
         "y": {
          "bdata": "vvfee++9PUDOOeecc847QKWUUkoppThAhBBCCCGEOEC+99577703QKWUUkoppThAY4wxxhjjQUDXWmuttVZLQOecc845J1JA33vvvfeeVEAhhBBCCKFVQBFCCCGEUFhAGWOMMcbYWUC21lprrfVaQM4555xzzltAW2uttdbaWEAIIYQQQshQQK211lprrUVAlVJKKaUUQ0BTSimllNJAQJVSSimllD9AEUIIIYSQQEBjjDHGGGNAQNdaa6211j5A",
          "dtype": "f8"
         },
         "yaxis": "y7"
        },
        {
         "hovertemplate": "variable=kWh<br>month=8<br>Hour of Day=%{x}<br>Energy (kWh)=%{y}<extra></extra>",
         "legendgroup": "kWh",
         "line": {
          "color": "#636efa",
          "dash": "solid"
         },
         "marker": {
          "symbol": "circle"
         },
         "mode": "lines",
         "name": "kWh",
         "orientation": "v",
         "showlegend": false,
         "type": "scatter",
         "x": [
          "0:00",
          "1:00",
          "2:00",
          "3:00",
          "4:00",
          "5:00",
          "6:00",
          "7:00",
          "8:00",
          "9:00",
          "10:00",
          "11:00",
          "12:00",
          "13:00",
          "14:00",
          "15:00",
          "16:00",
          "17:00",
          "18:00",
          "19:00",
          "20:00",
          "21:00",
          "22:00",
          "23:00"
         ],
         "xaxis": "x8",
         "y": {
          "bdata": "55xzzjnnNkC21lprrbU1QCGEEEIIITNAQgghhBBCM0CVUkoppZQyQBljjDHGGDNA33vvvffeNUCMMcYYY4w5QFtrrbXWWj5A77333nvvP0BrrbXWWmtAQN9777333j9AEUIIIYSQQEDXWmuttdZAQMYYY4wxRkBAEUIIIYQQPkA655xzzjk6QJ1zzjnnnDZAzjnnnHPONUAIIYQQQgg2QHTOOeecczVArbXWWmutN0B0zjnnnHM3QEoppZRSSjdA",
          "dtype": "f8"
         },
         "yaxis": "y8"
        },
        {
         "hovertemplate": "variable=kWh<br>month=9<br>Hour of Day=%{x}<br>Energy (kWh)=%{y}<extra></extra>",
         "legendgroup": "kWh",
         "line": {
          "color": "#636efa",
          "dash": "solid"
         },
         "marker": {
          "symbol": "circle"
         },
         "mode": "lines",
         "name": "kWh",
         "orientation": "v",
         "showlegend": false,
         "type": "scatter",
         "x": [
          "0:00",
          "1:00",
          "2:00",
          "3:00",
          "4:00",
          "5:00",
          "6:00",
          "7:00",
          "8:00",
          "9:00",
          "10:00",
          "11:00",
          "12:00",
          "13:00",
          "14:00",
          "15:00",
          "16:00",
          "17:00",
          "18:00",
          "19:00",
          "20:00",
          "21:00",
          "22:00",
          "23:00"
         ],
         "xaxis": "x",
         "y": {
          "bdata": "mpmZmZkZOkAzMzMzM7M3QDMzMzMzszVAVVVVVVXVNEBVVVVVVVU0QImIiIiIiDVA3t3d3d2dQEDNzMzMzExJQCIiIiIiAlRAq6qqqqrqVkBVVVVVVdVWQN7d3d3dnVlAmpmZmZlZW0ARERERERFdQLy7u7u7e11Aq6qqqqqqW0AzMzMzM3NTQN7d3d3d3UxA3t3d3d0dSUDNzMzMzIxHQCIiIiIiYkpAREREREQESUAiIiIiIuJEQFVVVVVVVT5A",
          "dtype": "f8"
         },
         "yaxis": "y"
        },
        {
         "hovertemplate": "variable=kWh<br>month=10<br>Hour of Day=%{x}<br>Energy (kWh)=%{y}<extra></extra>",
         "legendgroup": "kWh",
         "line": {
          "color": "#636efa",
          "dash": "solid"
         },
         "marker": {
          "symbol": "circle"
         },
         "mode": "lines",
         "name": "kWh",
         "orientation": "v",
         "showlegend": false,
         "type": "scatter",
         "x": [
          "0:00",
          "1:00",
          "2:00",
          "3:00",
          "4:00",
          "5:00",
          "6:00",
          "7:00",
          "8:00",
          "9:00",
          "10:00",
          "11:00",
          "12:00",
          "13:00",
          "14:00",
          "15:00",
          "16:00",
          "17:00",
          "18:00",
          "19:00",
          "20:00",
          "21:00",
          "22:00",
          "23:00"
         ],
         "xaxis": "x2",
         "y": {
          "bdata": "11prrbXWNkA655xzzjk1QBljjDHGGDNAEUIIIYQQM0AyxhhjjDEyQEoppZRSSjNAEUIIIYQQP0BCCCGEEMJGQOecc845Z1JAEUIIIYSQVEBCCCGEEMJTQCGEEEIIIVZAvvfee+89VkCMMcYYYwxYQKWUUkopZVdAa6211lrrVUBTSimllFJQQBljjDHGmExA55xzzjnnR0BjjDHGGGNLQK211lprLUhAhBBCCCGERUDvvffee29BQK211lprrTpA",
          "dtype": "f8"
         },
         "yaxis": "y2"
        },
        {
         "hovertemplate": "variable=kWh<br>month=11<br>Hour of Day=%{x}<br>Energy (kWh)=%{y}<extra></extra>",
         "legendgroup": "kWh",
         "line": {
          "color": "#636efa",
          "dash": "solid"
         },
         "marker": {
          "symbol": "circle"
         },
         "mode": "lines",
         "name": "kWh",
         "orientation": "v",
         "showlegend": false,
         "type": "scatter",
         "x": [
          "0:00",
          "1:00",
          "2:00",
          "3:00",
          "4:00",
          "5:00",
          "6:00",
          "7:00",
          "8:00",
          "9:00",
          "10:00",
          "11:00",
          "12:00",
          "13:00",
          "14:00",
          "15:00",
          "16:00",
          "17:00",
          "18:00",
          "19:00",
          "20:00",
          "21:00",
          "22:00",
          "23:00"
         ],
         "xaxis": "x3",
         "y": {
          "bdata": "zczMzMzMN0De3d3d3V01QBERERERETVAVVVVVVVVNEAiIiIiIqI0QGZmZmZm5jZAERERERFRUEDv7u7u7u5SQLy7u7u7m15Ad3d3d3e3X0CamZmZmVldQM3MzMzMzF5AvLu7u7ubXUDv7u7u7q5fQAAAAAAAAF5AvLu7u7s7XUCJiIiIiChVQAAAAAAAoFVAIiIiIiKiUkBERERERERQQFVVVVVVlUtAMzMzMzPzSEAAAAAAAMBDQKuqqqqqKjxA",
          "dtype": "f8"
         },
         "yaxis": "y3"
        },
        {
         "hovertemplate": "variable=kWh<br>month=12<br>Hour of Day=%{x}<br>Energy (kWh)=%{y}<extra></extra>",
         "legendgroup": "kWh",
         "line": {
          "color": "#636efa",
          "dash": "solid"
         },
         "marker": {
          "symbol": "circle"
         },
         "mode": "lines",
         "name": "kWh",
         "orientation": "v",
         "showlegend": false,
         "type": "scatter",
         "x": [
          "0:00",
          "1:00",
          "2:00",
          "3:00",
          "4:00",
          "5:00",
          "6:00",
          "7:00",
          "8:00",
          "9:00",
          "10:00",
          "11:00",
          "12:00",
          "13:00",
          "14:00",
          "15:00",
          "16:00",
          "17:00",
          "18:00",
          "19:00",
          "20:00",
          "21:00",
          "22:00",
          "23:00"
         ],
         "xaxis": "x4",
         "y": {
          "bdata": "77333nvvPUCEEEIIIYQ7QEoppZRSSjpAMsYYY4wxOkAyxhhjjDE/QIQQQgghBEBAW2uttdZaTkDXWmuttdZTQL733nvv/VpAW2uttdZaWkCMMcYYY8xYQPjee++9t1lACCGEEEKIWEDXWmuttZZZQFNKKaWUElhA+N577733VkAyxhhjjHFSQBFCCCGEkFRAdM4555xzTkDvvffee29LQBljjDHGGEdAAAAAAACARUDvvffee29CQGOMMcYYYz9A",
          "dtype": "f8"
         },
         "yaxis": "y4"
        },
        {
         "hovertemplate": "variable=solar_kWh<br>month=1<br>Hour of Day=%{x}<br>Energy (kWh)=%{y}<extra></extra>",
         "legendgroup": "solar_kWh",
         "line": {
          "color": "#EF553B",
          "dash": "solid"
         },
         "marker": {
          "symbol": "circle"
         },
         "mode": "lines",
         "name": "solar_kWh",
         "orientation": "v",
         "showlegend": true,
         "type": "scatter",
         "x": [
          "0:00",
          "1:00",
          "2:00",
          "3:00",
          "4:00",
          "5:00",
          "6:00",
          "7:00",
          "8:00",
          "9:00",
          "10:00",
          "11:00",
          "12:00",
          "13:00",
          "14:00",
          "15:00",
          "16:00",
          "17:00",
          "18:00",
          "19:00",
          "20:00",
          "21:00",
          "22:00",
          "23:00"
         ],
         "xaxis": "x9",
         "y": {
          "bdata": "AAAAAAAAAAAAAAAAAAAAAAAAAAAAAAAAAAAAAAAAAAAAAAAAAAAAAAAAAAAAAAAAAAAAAAAAAAAAAAAAAAAAAAAAAAAAAAAA822PWfIUKUCcIkd2efNJQJ4SCWgWWlNAsTuPUmITWEBk9BMclj5XQDav/mljjFVAvRk1XyVHUUD/YM7J3TBFQOeBTqpQyBBAAAAAAAAAAAAAAAAAAAAAAAAAAAAAAAAAAAAAAAAAAAAAAAAAAAAAAAAAAAAAAAAA",
          "dtype": "f8"
         },
         "yaxis": "y9"
        },
        {
         "hovertemplate": "variable=solar_kWh<br>month=2<br>Hour of Day=%{x}<br>Energy (kWh)=%{y}<extra></extra>",
         "legendgroup": "solar_kWh",
         "line": {
          "color": "#EF553B",
          "dash": "solid"
         },
         "marker": {
          "symbol": "circle"
         },
         "mode": "lines",
         "name": "solar_kWh",
         "orientation": "v",
         "showlegend": false,
         "type": "scatter",
         "x": [
          "0:00",
          "1:00",
          "2:00",
          "3:00",
          "4:00",
          "5:00",
          "6:00",
          "7:00",
          "8:00",
          "9:00",
          "10:00",
          "11:00",
          "12:00",
          "13:00",
          "14:00",
          "15:00",
          "16:00",
          "17:00",
          "18:00",
          "19:00",
          "20:00",
          "21:00",
          "22:00",
          "23:00"
         ],
         "xaxis": "x10",
         "y": {
          "bdata": "AAAAAAAAAAAAAAAAAAAAAAAAAAAAAAAAAAAAAAAAAAAAAAAAAAAAAAAAAAAAAAAAAAAAAAAAAAAAAAAAAAAAAJdef00rSxNAkA0vVMwPOEDjozWDRXFNQKt0hNwUAFRANUK93KZOWUBfeP4L/llXQCbM6PloI1ZA9dn0ly4zUkBTDDmc4FNIQGKyjHT0eTNAYILvE5833T8AAAAAAAAAAAAAAAAAAAAAAAAAAAAAAAAAAAAAAAAAAAAAAAAAAAAA",
          "dtype": "f8"
         },
         "yaxis": "y10"
        },
        {
         "hovertemplate": "variable=solar_kWh<br>month=3<br>Hour of Day=%{x}<br>Energy (kWh)=%{y}<extra></extra>",
         "legendgroup": "solar_kWh",
         "line": {
          "color": "#EF553B",
          "dash": "solid"
         },
         "marker": {
          "symbol": "circle"
         },
         "mode": "lines",
         "name": "solar_kWh",
         "orientation": "v",
         "showlegend": false,
         "type": "scatter",
         "x": [
          "0:00",
          "1:00",
          "2:00",
          "3:00",
          "4:00",
          "5:00",
          "6:00",
          "7:00",
          "8:00",
          "9:00",
          "10:00",
          "11:00",
          "12:00",
          "13:00",
          "14:00",
          "15:00",
          "16:00",
          "17:00",
          "18:00",
          "19:00",
          "20:00",
          "21:00",
          "22:00",
          "23:00"
         ],
         "xaxis": "x11",
         "y": {
          "bdata": "AAAAAAAAAAAAAAAAAAAAAAAAAAAAAAAAAAAAAAAAAAAAAAAAAAAAAAAAAAAAAAAAAAAAAAAAAACoAtHrvqb9P4x+yt4s7TBApm4RxzCRSUBjmOB0cMFTQDscXaW7lFlAjAdZH0QEW0AP8a9DYIZZQOXFQOado1lAQHn3i8N8VECftCbMahVQQEtCZ/51kDxAgAtGAtsQEkAAAAAAAAAAAAAAAAAAAAAAAAAAAAAAAAAAAAAAAAAAAAAAAAAAAAAA",
          "dtype": "f8"
         },
         "yaxis": "y11"
        },
        {
         "hovertemplate": "variable=solar_kWh<br>month=4<br>Hour of Day=%{x}<br>Energy (kWh)=%{y}<extra></extra>",
         "legendgroup": "solar_kWh",
         "line": {
          "color": "#EF553B",
          "dash": "solid"
         },
         "marker": {
          "symbol": "circle"
         },
         "mode": "lines",
         "name": "solar_kWh",
         "orientation": "v",
         "showlegend": false,
         "type": "scatter",
         "x": [
          "0:00",
          "1:00",
          "2:00",
          "3:00",
          "4:00",
          "5:00",
          "6:00",
          "7:00",
          "8:00",
          "9:00",
          "10:00",
          "11:00",
          "12:00",
          "13:00",
          "14:00",
          "15:00",
          "16:00",
          "17:00",
          "18:00",
          "19:00",
          "20:00",
          "21:00",
          "22:00",
          "23:00"
         ],
         "xaxis": "x12",
         "y": {
          "bdata": "AAAAAAAAAAAAAAAAAAAAAAAAAAAAAAAAAAAAAAAAAAAAAAAAAAAAAAAAAAAAAAAAgLrDHsEK1D8cU5nLd7MoQN6sUI5HgkNAAXVd1os8UUAipNGRmlJWQFOOxvmOSFpAOeJ/4cuqXkBJrxdU5V5eQPp8Lv5r2lpAs7ES86xKV0Dxq4PNStZRQG0Jixy020RAHPXSQVFiI0DWhlV/LuHWPwAAAAAAAAAAAAAAAAAAAAAAAAAAAAAAAAAAAAAAAAAA",
          "dtype": "f8"
         },
         "yaxis": "y12"
        },
        {
         "hovertemplate": "variable=solar_kWh<br>month=5<br>Hour of Day=%{x}<br>Energy (kWh)=%{y}<extra></extra>",
         "legendgroup": "solar_kWh",
         "line": {
          "color": "#EF553B",
          "dash": "solid"
         },
         "marker": {
          "symbol": "circle"
         },
         "mode": "lines",
         "name": "solar_kWh",
         "orientation": "v",
         "showlegend": false,
         "type": "scatter",
         "x": [
          "0:00",
          "1:00",
          "2:00",
          "3:00",
          "4:00",
          "5:00",
          "6:00",
          "7:00",
          "8:00",
          "9:00",
          "10:00",
          "11:00",
          "12:00",
          "13:00",
          "14:00",
          "15:00",
          "16:00",
          "17:00",
          "18:00",
          "19:00",
          "20:00",
          "21:00",
          "22:00",
          "23:00"
         ],
         "xaxis": "x5",
         "y": {
          "bdata": "AAAAAAAAAAAAAAAAAAAAAAAAAAAAAAAAAAAAAAAAAAAAAAAAAAAAAAAAAAAAAAAAJbpvUJicCEBlUiINl8g0QPGGKzLjokhACKaNx9iOU0AyGthtI3paQMq9qiLRa15AnPDbwrt/X0CVOwet8QFgQLM6DS9yn19Azg6iJBlvW0DxSGNQ3Q5WQIDw72vLZktA/SyLXbmoNUAD/KwYsdkMQAAAAAAAAAAAAAAAAAAAAAAAAAAAAAAAAAAAAAAAAAAA",
          "dtype": "f8"
         },
         "yaxis": "y5"
        },
        {
         "hovertemplate": "variable=solar_kWh<br>month=6<br>Hour of Day=%{x}<br>Energy (kWh)=%{y}<extra></extra>",
         "legendgroup": "solar_kWh",
         "line": {
          "color": "#EF553B",
          "dash": "solid"
         },
         "marker": {
          "symbol": "circle"
         },
         "mode": "lines",
         "name": "solar_kWh",
         "orientation": "v",
         "showlegend": false,
         "type": "scatter",
         "x": [
          "0:00",
          "1:00",
          "2:00",
          "3:00",
          "4:00",
          "5:00",
          "6:00",
          "7:00",
          "8:00",
          "9:00",
          "10:00",
          "11:00",
          "12:00",
          "13:00",
          "14:00",
          "15:00",
          "16:00",
          "17:00",
          "18:00",
          "19:00",
          "20:00",
          "21:00",
          "22:00",
          "23:00"
         ],
         "xaxis": "x6",
         "y": {
          "bdata": "AAAAAAAAAAAAAAAAAAAAAAAAAAAAAAAAAAAAAAAAAAAAAAAAAAAAAAAAAAAAAAAAG5MlP1NJFEDpnLWWKR48QAbvWxMnb05A9sPiStDSVUAHfxpSoG1bQPz4lRgVy11A2eHClFuMYEAOJ3oqcZJgQLFq2SOdtV5AvCEyUSklXECGKkan+OlVQNwsle7lp01APecF2zBnO0C/8/x/Vx8bQAAAAAAAAAAAAAAAAAAAAAAAAAAAAAAAAAAAAAAAAAAA",
          "dtype": "f8"
         },
         "yaxis": "y6"
        },
        {
         "hovertemplate": "variable=solar_kWh<br>month=7<br>Hour of Day=%{x}<br>Energy (kWh)=%{y}<extra></extra>",
         "legendgroup": "solar_kWh",
         "line": {
          "color": "#EF553B",
          "dash": "solid"
         },
         "marker": {
          "symbol": "circle"
         },
         "mode": "lines",
         "name": "solar_kWh",
         "orientation": "v",
         "showlegend": false,
         "type": "scatter",
         "x": [
          "0:00",
          "1:00",
          "2:00",
          "3:00",
          "4:00",
          "5:00",
          "6:00",
          "7:00",
          "8:00",
          "9:00",
          "10:00",
          "11:00",
          "12:00",
          "13:00",
          "14:00",
          "15:00",
          "16:00",
          "17:00",
          "18:00",
          "19:00",
          "20:00",
          "21:00",
          "22:00",
          "23:00"
         ],
         "xaxis": "x7",
         "y": {
          "bdata": "AAAAAAAAAAAAAAAAAAAAAAAAAAAAAAAAAAAAAAAAAAAAAAAAAAAAAAAAAAAAAAAAEdN/8eQvDkAiCuatgik4QP2MFsyBHktA50VgzLfEVEATuPTQdcZYQGz5hxLVYVxACz9eTCFBXkDuMwIICXFeQChk8jKsmF5Av4c7a1RbW0AdlsMbFLNVQDa0cE7AsU5A2Llebg5ZPUBlL5KFApUWQAAAAAAAAAAAAAAAAAAAAAAAAAAAAAAAAAAAAAAAAAAA",
          "dtype": "f8"
         },
         "yaxis": "y7"
        },
        {
         "hovertemplate": "variable=solar_kWh<br>month=8<br>Hour of Day=%{x}<br>Energy (kWh)=%{y}<extra></extra>",
         "legendgroup": "solar_kWh",
         "line": {
          "color": "#EF553B",
          "dash": "solid"
         },
         "marker": {
          "symbol": "circle"
         },
         "mode": "lines",
         "name": "solar_kWh",
         "orientation": "v",
         "showlegend": false,
         "type": "scatter",
         "x": [
          "0:00",
          "1:00",
          "2:00",
          "3:00",
          "4:00",
          "5:00",
          "6:00",
          "7:00",
          "8:00",
          "9:00",
          "10:00",
          "11:00",
          "12:00",
          "13:00",
          "14:00",
          "15:00",
          "16:00",
          "17:00",
          "18:00",
          "19:00",
          "20:00",
          "21:00",
          "22:00",
          "23:00"
         ],
         "xaxis": "x8",
         "y": {
          "bdata": "AAAAAAAAAAAAAAAAAAAAAAAAAAAAAAAAAAAAAAAAAAAAAAAAAAAAAAAAAAAAAAAAjojQY64K3j/sGBhTa74wQAmegbcFcEdAC0QVYPEeU0DpeuVNA/tXQOIfUkNpfFxAFUId50H6XkAhsegCgORfQA51mn8VsV5A4T5c4VIuW0A4IYseZ0RVQEFxxEeF/EhALwN5AFjFMkACVL2/kCgAQAAAAAAAAAAAAAAAAAAAAAAAAAAAAAAAAAAAAAAAAAAA",
          "dtype": "f8"
         },
         "yaxis": "y8"
        },
        {
         "hovertemplate": "variable=solar_kWh<br>month=9<br>Hour of Day=%{x}<br>Energy (kWh)=%{y}<extra></extra>",
         "legendgroup": "solar_kWh",
         "line": {
          "color": "#EF553B",
          "dash": "solid"
         },
         "marker": {
          "symbol": "circle"
         },
         "mode": "lines",
         "name": "solar_kWh",
         "orientation": "v",
         "showlegend": false,
         "type": "scatter",
         "x": [
          "0:00",
          "1:00",
          "2:00",
          "3:00",
          "4:00",
          "5:00",
          "6:00",
          "7:00",
          "8:00",
          "9:00",
          "10:00",
          "11:00",
          "12:00",
          "13:00",
          "14:00",
          "15:00",
          "16:00",
          "17:00",
          "18:00",
          "19:00",
          "20:00",
          "21:00",
          "22:00",
          "23:00"
         ],
         "xaxis": "x",
         "y": {
          "bdata": "AAAAAAAAAAAAAAAAAAAAAAAAAAAAAAAAAAAAAAAAAAAAAAAAAAAAAAAAAAAAAAAAAAAAAAAAAADpQFa7GqwfQH3+N9PdXEBAyujFKe5NT0C9fGp0BsRUQJxGQY2O11hAJ6YZ9GKjWUCe7aWzzJhZQCq3mJSBc1dA+cuxNUqHU0C6+PFSEa5KQCsadtlfMztAj6XQg9N+FUAAAAAAAAAAAAAAAAAAAAAAAAAAAAAAAAAAAAAAAAAAAAAAAAAAAAAA",
          "dtype": "f8"
         },
         "yaxis": "y"
        },
        {
         "hovertemplate": "variable=solar_kWh<br>month=10<br>Hour of Day=%{x}<br>Energy (kWh)=%{y}<extra></extra>",
         "legendgroup": "solar_kWh",
         "line": {
          "color": "#EF553B",
          "dash": "solid"
         },
         "marker": {
          "symbol": "circle"
         },
         "mode": "lines",
         "name": "solar_kWh",
         "orientation": "v",
         "showlegend": false,
         "type": "scatter",
         "x": [
          "0:00",
          "1:00",
          "2:00",
          "3:00",
          "4:00",
          "5:00",
          "6:00",
          "7:00",
          "8:00",
          "9:00",
          "10:00",
          "11:00",
          "12:00",
          "13:00",
          "14:00",
          "15:00",
          "16:00",
          "17:00",
          "18:00",
          "19:00",
          "20:00",
          "21:00",
          "22:00",
          "23:00"
         ],
         "xaxis": "x2",
         "y": {
          "bdata": "AAAAAAAAAAAAAAAAAAAAAAAAAAAAAAAAAAAAAAAAAAAAAAAAAAAAAAAAAAAAAAAAAAAAAAAAAABPMSAfvmr/P/NiAz61hTJArTH3oh8RSEDe/3cV4LlRQK7t2dmXV1NA2Aw9At2ZVkAlVebRmedWQN4flmlrJ1RAVL4PPRpTTUCdXqVRlsxBQEDO3sgyIiVAnRGlvcEXsj8AAAAAAAAAAAAAAAAAAAAAAAAAAAAAAAAAAAAAAAAAAAAAAAAAAAAA",
          "dtype": "f8"
         },
         "yaxis": "y2"
        },
        {
         "hovertemplate": "variable=solar_kWh<br>month=11<br>Hour of Day=%{x}<br>Energy (kWh)=%{y}<extra></extra>",
         "legendgroup": "solar_kWh",
         "line": {
          "color": "#EF553B",
          "dash": "solid"
         },
         "marker": {
          "symbol": "circle"
         },
         "mode": "lines",
         "name": "solar_kWh",
         "orientation": "v",
         "showlegend": false,
         "type": "scatter",
         "x": [
          "0:00",
          "1:00",
          "2:00",
          "3:00",
          "4:00",
          "5:00",
          "6:00",
          "7:00",
          "8:00",
          "9:00",
          "10:00",
          "11:00",
          "12:00",
          "13:00",
          "14:00",
          "15:00",
          "16:00",
          "17:00",
          "18:00",
          "19:00",
          "20:00",
          "21:00",
          "22:00",
          "23:00"
         ],
         "xaxis": "x3",
         "y": {
          "bdata": "AAAAAAAAAAAAAAAAAAAAAAAAAAAAAAAAAAAAAAAAAAAAAAAAAAAAAAAAAAAAAAAAAAAAAAAAAAAAAAAAAAAAALmB9ZPBfyNADkEwcWdKREBNaZoDpnlQQJzI8PzGUVRAiVH251kKV0DFbZeqMolUQIbD0sCPNlJAT8UyotkxR0C5c6PAado7QGxb1Q1ume0/AAAAAAAAAAAAAAAAAAAAAAAAAAAAAAAAAAAAAAAAAAAAAAAAAAAAAAAAAAAAAAAA",
          "dtype": "f8"
         },
         "yaxis": "y3"
        },
        {
         "hovertemplate": "variable=solar_kWh<br>month=12<br>Hour of Day=%{x}<br>Energy (kWh)=%{y}<extra></extra>",
         "legendgroup": "solar_kWh",
         "line": {
          "color": "#EF553B",
          "dash": "solid"
         },
         "marker": {
          "symbol": "circle"
         },
         "mode": "lines",
         "name": "solar_kWh",
         "orientation": "v",
         "showlegend": false,
         "type": "scatter",
         "x": [
          "0:00",
          "1:00",
          "2:00",
          "3:00",
          "4:00",
          "5:00",
          "6:00",
          "7:00",
          "8:00",
          "9:00",
          "10:00",
          "11:00",
          "12:00",
          "13:00",
          "14:00",
          "15:00",
          "16:00",
          "17:00",
          "18:00",
          "19:00",
          "20:00",
          "21:00",
          "22:00",
          "23:00"
         ],
         "xaxis": "x4",
         "y": {
          "bdata": "AAAAAAAAAAAAAAAAAAAAAAAAAAAAAAAAAAAAAAAAAAAAAAAAAAAAAAAAAAAAAAAAAAAAAAAAAAAAAAAAAAAAAI1snW6PlN4/bPZlFFUPMUCkbGXh8lRGQMS69Yiu3FFA3FkOc+rOU0BgR7f7qRRUQMwBHteqqFBA4sZ0obduRkDZgNzekhwyQK0SCwB+W6g/AAAAAAAAAAAAAAAAAAAAAAAAAAAAAAAAAAAAAAAAAAAAAAAAAAAAAAAAAAAAAAAA",
          "dtype": "f8"
         },
         "yaxis": "y4"
        },
        {
         "hovertemplate": "variable=netConsumption<br>month=1<br>Hour of Day=%{x}<br>Energy (kWh)=%{y}<extra></extra>",
         "legendgroup": "netConsumption",
         "line": {
          "color": "#00cc96",
          "dash": "solid"
         },
         "marker": {
          "symbol": "circle"
         },
         "mode": "lines",
         "name": "netConsumption",
         "orientation": "v",
         "showlegend": true,
         "type": "scatter",
         "x": [
          "0:00",
          "1:00",
          "2:00",
          "3:00",
          "4:00",
          "5:00",
          "6:00",
          "7:00",
          "8:00",
          "9:00",
          "10:00",
          "11:00",
          "12:00",
          "13:00",
          "14:00",
          "15:00",
          "16:00",
          "17:00",
          "18:00",
          "19:00",
          "20:00",
          "21:00",
          "22:00",
          "23:00"
         ],
         "xaxis": "x9",
         "y": {
          "bdata": "lVJKKaUUQ0AppZRSSqlCQHTOOeec80pAttZaa621TECllFJKKaVOQDrnnHPOuU9ACCGEEEIIUkCttdZaa21VQAghhBBCyFxAIY69clk8WUCexFX9VEZNQKt3Yf4Ms0FAbuB9SmlUL0AMon7JjqIyQNX427LdezlAXScB72pIREBLyNbKdBlGQKAPOnFqsVRAhBBCCCGEWkCllFJKKWVVQN9777333lBAW2uttdbaSUCMMcYYYwxGQFtrrbXW2kVA",
          "dtype": "f8"
         },
         "yaxis": "y9"
        },
        {
         "hovertemplate": "variable=netConsumption<br>month=2<br>Hour of Day=%{x}<br>Energy (kWh)=%{y}<extra></extra>",
         "legendgroup": "netConsumption",
         "line": {
          "color": "#00cc96",
          "dash": "solid"
         },
         "marker": {
          "symbol": "circle"
         },
         "mode": "lines",
         "name": "netConsumption",
         "orientation": "v",
         "showlegend": false,
         "type": "scatter",
         "x": [
          "0:00",
          "1:00",
          "2:00",
          "3:00",
          "4:00",
          "5:00",
          "6:00",
          "7:00",
          "8:00",
          "9:00",
          "10:00",
          "11:00",
          "12:00",
          "13:00",
          "14:00",
          "15:00",
          "16:00",
          "17:00",
          "18:00",
          "19:00",
          "20:00",
          "21:00",
          "22:00",
          "23:00"
         ],
         "xaxis": "x10",
         "y": {
          "bdata": "kiRJkiSJQkAlSZIkSZJCQAAAAAAA4E1AkiRJkiSpT0Bu27Zt26ZQQCVJkiRJck9Abtu2bdvGUUAlSZIkScJUQPLAlSYEWVxAmzz06gwMWEDTyaUzKGpPQIPNZCKNrUlAL/cKjWSFOUBmWJUMTR5EQGvVCcObNEVAhSfNPX4QS0DRPFmIaN5FQEOKSr45L1JAoll+hRHVW0Dbtm3btp1XQG7btm3bhlJAAAAAAABgSkAAAAAAACBFQLdt27Zte0RA",
          "dtype": "f8"
         },
         "yaxis": "y10"
        },
        {
         "hovertemplate": "variable=netConsumption<br>month=3<br>Hour of Day=%{x}<br>Energy (kWh)=%{y}<extra></extra>",
         "legendgroup": "netConsumption",
         "line": {
          "color": "#00cc96",
          "dash": "solid"
         },
         "marker": {
          "symbol": "circle"
         },
         "mode": "lines",
         "name": "netConsumption",
         "orientation": "v",
         "showlegend": false,
         "type": "scatter",
         "x": [
          "0:00",
          "1:00",
          "2:00",
          "3:00",
          "4:00",
          "5:00",
          "6:00",
          "7:00",
          "8:00",
          "9:00",
          "10:00",
          "11:00",
          "12:00",
          "13:00",
          "14:00",
          "15:00",
          "16:00",
          "17:00",
          "18:00",
          "19:00",
          "20:00",
          "21:00",
          "22:00",
          "23:00"
         ],
         "xaxis": "x11",
         "y": {
          "bdata": "AAAAAACAQECVUkoppZRAQHzvvffee0pAjDHGGGMMS0CVUkoppRRNQNdaa6211ktASimllFJKUEDVN0DCXChSQPrTGwKc4VVAatP2WVP/SkCOAQpeBBM0QEwNr560DQJAhPdzMmzN6z9Ab19e7YovQB36nmJjLShA5beVniv0O0AeoTMJPEcxQDbKebabEkpA7TMumhtEU0A655xzzvlTQDrnnHPOuVBA77333nvvSEC21lprrTVDQDMzMzMzM0JA",
          "dtype": "f8"
         },
         "yaxis": "y11"
        },
        {
         "hovertemplate": "variable=netConsumption<br>month=4<br>Hour of Day=%{x}<br>Energy (kWh)=%{y}<extra></extra>",
         "legendgroup": "netConsumption",
         "line": {
          "color": "#00cc96",
          "dash": "solid"
         },
         "marker": {
          "symbol": "circle"
         },
         "mode": "lines",
         "name": "netConsumption",
         "orientation": "v",
         "showlegend": false,
         "type": "scatter",
         "x": [
          "0:00",
          "1:00",
          "2:00",
          "3:00",
          "4:00",
          "5:00",
          "6:00",
          "7:00",
          "8:00",
          "9:00",
          "10:00",
          "11:00",
          "12:00",
          "13:00",
          "14:00",
          "15:00",
          "16:00",
          "17:00",
          "18:00",
          "19:00",
          "20:00",
          "21:00",
          "22:00",
          "23:00"
         ],
         "xaxis": "x12",
         "y": {
          "bdata": "vLu7u7s7QEDv7u7u7u49QN7d3d3dnUZAd3d3d3c3SEAAAAAAAIBJQGZmZmZmZklAz7wGwi6cTUBt3kxAVUZNQGaX87X8gU9Ay+IRILUTQkDv3nJxK2spQFWlHI3zHcG/kd7L2CsjLsCMT1zpEEMGwDQYjA6gLCFAy9jQzf4QLkDEHqMFMXkWQDn++teo2T9AhQ9YfDi0TUC/Ic5vCh9MQCIiIiIiIk1AVVVVVVXVSkDNzMzMzIxDQImIiIiICEJA",
          "dtype": "f8"
         },
         "yaxis": "y12"
        },
        {
         "hovertemplate": "variable=netConsumption<br>month=5<br>Hour of Day=%{x}<br>Energy (kWh)=%{y}<extra></extra>",
         "legendgroup": "netConsumption",
         "line": {
          "color": "#00cc96",
          "dash": "solid"
         },
         "marker": {
          "symbol": "circle"
         },
         "mode": "lines",
         "name": "netConsumption",
         "orientation": "v",
         "showlegend": false,
         "type": "scatter",
         "x": [
          "0:00",
          "1:00",
          "2:00",
          "3:00",
          "4:00",
          "5:00",
          "6:00",
          "7:00",
          "8:00",
          "9:00",
          "10:00",
          "11:00",
          "12:00",
          "13:00",
          "14:00",
          "15:00",
          "16:00",
          "17:00",
          "18:00",
          "19:00",
          "20:00",
          "21:00",
          "22:00",
          "23:00"
         ],
         "xaxis": "x5",
         "y": {
          "bdata": "KaWUUkopPUBCCCGEEEI6QIQQQgghhDpAW2uttdZaOEAhhBBCCCE8QCmllFJKKUBAPYDoOC7VQ0DVlHpmN3E7QN3phxcpeD1AWPqQNCnpFUBbu6rgMn03wGLeR/4S6T7ACzY+RdabPsBWkhDD+Lw3wEba8rOn+T/A0Y3SuwlRNcCKPPDNpgE+wB6MDwG/jQLAmCW/y+vrOEBhtIUwbVNDQEoppZRSSkRAnXPOOeecR0ARQgghhBBDQCmllFJKKUFA",
          "dtype": "f8"
         },
         "yaxis": "y5"
        },
        {
         "hovertemplate": "variable=netConsumption<br>month=6<br>Hour of Day=%{x}<br>Energy (kWh)=%{y}<extra></extra>",
         "legendgroup": "netConsumption",
         "line": {
          "color": "#00cc96",
          "dash": "solid"
         },
         "marker": {
          "symbol": "circle"
         },
         "mode": "lines",
         "name": "netConsumption",
         "orientation": "v",
         "showlegend": false,
         "type": "scatter",
         "x": [
          "0:00",
          "1:00",
          "2:00",
          "3:00",
          "4:00",
          "5:00",
          "6:00",
          "7:00",
          "8:00",
          "9:00",
          "10:00",
          "11:00",
          "12:00",
          "13:00",
          "14:00",
          "15:00",
          "16:00",
          "17:00",
          "18:00",
          "19:00",
          "20:00",
          "21:00",
          "22:00",
          "23:00"
         ],
         "xaxis": "x6",
         "y": {
          "bdata": "iYiIiIgIQEAzMzMzM7M8QCIiIiIiIjpAd3d3d3d3OkAiIiIiIiI6QERERERERD1Aeyv5dbOUQUCx/OMCcPsyQI674XJLuzdAL1pt65RsFECRTSnmV8IrwMm2nrOXRyXALnV9DENJNMD7ksTJNEkgwPWIdBuwNxnABKK7f4d9/L/xD+31gAsiwGbdms8UBR1ATaGCrVehPUC8lDNDSM9EQLy7u7u7+0VA7+7u7u6uR0De3d3d3Z1FQDMzMzMzs0JA",
          "dtype": "f8"
         },
         "yaxis": "y6"
        },
        {
         "hovertemplate": "variable=netConsumption<br>month=7<br>Hour of Day=%{x}<br>Energy (kWh)=%{y}<extra></extra>",
         "legendgroup": "netConsumption",
         "line": {
          "color": "#00cc96",
          "dash": "solid"
         },
         "marker": {
          "symbol": "circle"
         },
         "mode": "lines",
         "name": "netConsumption",
         "orientation": "v",
         "showlegend": false,
         "type": "scatter",
         "x": [
          "0:00",
          "1:00",
          "2:00",
          "3:00",
          "4:00",
          "5:00",
          "6:00",
          "7:00",
          "8:00",
          "9:00",
          "10:00",
          "11:00",
          "12:00",
          "13:00",
          "14:00",
          "15:00",
          "16:00",
          "17:00",
          "18:00",
          "19:00",
          "20:00",
          "21:00",
          "22:00",
          "23:00"
         ],
         "xaxis": "x7",
         "y": {
          "bdata": "vvfee++9PUDOOeecc847QKWUUkoppThAhBBCCCGEOEC+99577703QKWUUkoppThAMo8ZdxoAQECLq/Cs6IM+QKRZoaHjXzJALQRlOAfg4r+NnyF3bCspwG3d/sVDRTDAyW9Ha2yhMcDF6Trl3NorwM5SWbDEUSbAI+NwrO0DJMBT1P0sSKszwBL9M+epCDLAo9ZryHegIUDMCO6o6P87QJVSSimllD9AEUIIIYSQQEBjjDHGGGNAQNdaa6211j5A",
          "dtype": "f8"
         },
         "yaxis": "y7"
        },
        {
         "hovertemplate": "variable=netConsumption<br>month=8<br>Hour of Day=%{x}<br>Energy (kWh)=%{y}<extra></extra>",
         "legendgroup": "netConsumption",
         "line": {
          "color": "#00cc96",
          "dash": "solid"
         },
         "marker": {
          "symbol": "circle"
         },
         "mode": "lines",
         "name": "netConsumption",
         "orientation": "v",
         "showlegend": false,
         "type": "scatter",
         "x": [
          "0:00",
          "1:00",
          "2:00",
          "3:00",
          "4:00",
          "5:00",
          "6:00",
          "7:00",
          "8:00",
          "9:00",
          "10:00",
          "11:00",
          "12:00",
          "13:00",
          "14:00",
          "15:00",
          "16:00",
          "17:00",
          "18:00",
          "19:00",
          "20:00",
          "21:00",
          "22:00",
          "23:00"
         ],
         "xaxis": "x8",
         "y": {
          "bdata": "55xzzjnnNkC21lprrbU1QCGEEEIIITNAQgghhBBCM0CVUkoppZQyQBljjDHGGDNAvTlgBM1mNUBAMVyL75shQLjQVbk0hTDAH6mu0CRGRsBnSBXFq4pPwOpA1lOrhFTADCGZ1v+xVsC2AzMsJXlXwKvoaLn8jVbAXS4a2TGqU8DTzkcD52tNwOZuulUjXDvA/LRx49xICECIdoz4LwM0QHTOOeecczVArbXWWmutN0B0zjnnnHM3QEoppZRSSjdA",
          "dtype": "f8"
         },
         "yaxis": "y8"
        },
        {
         "hovertemplate": "variable=netConsumption<br>month=9<br>Hour of Day=%{x}<br>Energy (kWh)=%{y}<extra></extra>",
         "legendgroup": "netConsumption",
         "line": {
          "color": "#00cc96",
          "dash": "solid"
         },
         "marker": {
          "symbol": "circle"
         },
         "mode": "lines",
         "name": "netConsumption",
         "orientation": "v",
         "showlegend": false,
         "type": "scatter",
         "x": [
          "0:00",
          "1:00",
          "2:00",
          "3:00",
          "4:00",
          "5:00",
          "6:00",
          "7:00",
          "8:00",
          "9:00",
          "10:00",
          "11:00",
          "12:00",
          "13:00",
          "14:00",
          "15:00",
          "16:00",
          "17:00",
          "18:00",
          "19:00",
          "20:00",
          "21:00",
          "22:00",
          "23:00"
         ],
         "xaxis": "x",
         "y": {
          "bdata": "mpmZmZkZOkAzMzMzM7M3QDMzMzMzszVAVVVVVVXVNEBVVVVVVVU0QImIiIiIiDVA3t3d3d2dQECwBGJ1SVdFQMdFDHFmp0dAF9keV84OPUDBxFYHd4ogQDPokhPqyQhAHTf/V2pjG0CVG1nrIsIrQEcSjJzoIDhAZL3x6cBGQEBa2+gmqnA4QJGhReJbiD5ALMljbQNuRkDNzMzMzIxHQCIiIiIiYkpAREREREQESUAiIiIiIuJEQFVVVVVVVT5A",
          "dtype": "f8"
         },
         "yaxis": "y"
        },
        {
         "hovertemplate": "variable=netConsumption<br>month=10<br>Hour of Day=%{x}<br>Energy (kWh)=%{y}<extra></extra>",
         "legendgroup": "netConsumption",
         "line": {
          "color": "#00cc96",
          "dash": "solid"
         },
         "marker": {
          "symbol": "circle"
         },
         "mode": "lines",
         "name": "netConsumption",
         "orientation": "v",
         "showlegend": false,
         "type": "scatter",
         "x": [
          "0:00",
          "1:00",
          "2:00",
          "3:00",
          "4:00",
          "5:00",
          "6:00",
          "7:00",
          "8:00",
          "9:00",
          "10:00",
          "11:00",
          "12:00",
          "13:00",
          "14:00",
          "15:00",
          "16:00",
          "17:00",
          "18:00",
          "19:00",
          "20:00",
          "21:00",
          "22:00",
          "23:00"
         ],
         "xaxis": "x2",
         "y": {
          "bdata": "11prrbXWNkA655xzzjk1QBljjDHGGDNAEUIIIYQQM0AyxhhjjDEyQEoppZRSSjNAEUIIIYQQP0C4BiiTusZFQFWI5f2Yi0tAdFIZn+gPQUAgQ0h1g0EgQJSztEGDSyZAakaFl2H79r94xv1tlEwSQDqm4wXv7SlABjm34DYHPUAPbFrxJbE9QImvVH85UEdAX8qU7S3eR0BjjDHGGGNLQK211lprLUhAhBBCCCGERUDvvffee29BQK211lprrTpA",
          "dtype": "f8"
         },
         "yaxis": "y2"
        },
        {
         "hovertemplate": "variable=netConsumption<br>month=11<br>Hour of Day=%{x}<br>Energy (kWh)=%{y}<extra></extra>",
         "legendgroup": "netConsumption",
         "line": {
          "color": "#00cc96",
          "dash": "solid"
         },
         "marker": {
          "symbol": "circle"
         },
         "mode": "lines",
         "name": "netConsumption",
         "orientation": "v",
         "showlegend": false,
         "type": "scatter",
         "x": [
          "0:00",
          "1:00",
          "2:00",
          "3:00",
          "4:00",
          "5:00",
          "6:00",
          "7:00",
          "8:00",
          "9:00",
          "10:00",
          "11:00",
          "12:00",
          "13:00",
          "14:00",
          "15:00",
          "16:00",
          "17:00",
          "18:00",
          "19:00",
          "20:00",
          "21:00",
          "22:00",
          "23:00"
         ],
         "xaxis": "x3",
         "y": {
          "bdata": "zczMzMzMN0De3d3d3V01QBERERERETVAVVVVVVVVNEAiIiIiIqI0QGZmZmZm5jZAERERERFRUEDv7u7u7u5SQIQLPYnDK1xA8VbfvkOSVUCZYP4r579JQGEIuJ8L9kRAy6gVT4dFOkBTAq+IeEtGQPJ4Wn7gkkdAFFmi6s6iUUA1V78w3GNMQEpV5CPNZFVAIiIiIiKiUkBERERERERQQFVVVVVVlUtAMzMzMzPzSEAAAAAAAMBDQKuqqqqqKjxA",
          "dtype": "f8"
         },
         "yaxis": "y3"
        },
        {
         "hovertemplate": "variable=netConsumption<br>month=12<br>Hour of Day=%{x}<br>Energy (kWh)=%{y}<extra></extra>",
         "legendgroup": "netConsumption",
         "line": {
          "color": "#00cc96",
          "dash": "solid"
         },
         "marker": {
          "symbol": "circle"
         },
         "mode": "lines",
         "name": "netConsumption",
         "orientation": "v",
         "showlegend": false,
         "type": "scatter",
         "x": [
          "0:00",
          "1:00",
          "2:00",
          "3:00",
          "4:00",
          "5:00",
          "6:00",
          "7:00",
          "8:00",
          "9:00",
          "10:00",
          "11:00",
          "12:00",
          "13:00",
          "14:00",
          "15:00",
          "16:00",
          "17:00",
          "18:00",
          "19:00",
          "20:00",
          "21:00",
          "22:00",
          "23:00"
         ],
         "xaxis": "x4",
         "y": {
          "bdata": "77333nvvPUCEEEIIIYQ7QEoppZRSSjpAMsYYY4wxOkAyxhhjjDE/QIQQQgghBEBAW2uttdZaTkDXWmuttdZTQFJacOxa31pAwO2TcAEXVkB19iZQ00NLQM6QGJo9bD9AshzXdV7lMkDdTdDGLgg2QBkiLTinpz1ADfeCPcSAR0D3S8NWz9RLQK5ASLF4jVRAdM4555xzTkDvvffee29LQBljjDHGGEdAAAAAAACARUDvvffee29CQGOMMcYYYz9A",
          "dtype": "f8"
         },
         "yaxis": "y4"
        }
       ],
       "layout": {
        "annotations": [
         {
          "font": {},
          "showarrow": false,
          "text": "month=9",
          "x": 0.1175,
          "xanchor": "center",
          "xref": "paper",
          "y": 0.2866666666666666,
          "yanchor": "bottom",
          "yref": "paper"
         },
         {
          "font": {},
          "showarrow": false,
          "text": "month=10",
          "x": 0.3725,
          "xanchor": "center",
          "xref": "paper",
          "y": 0.2866666666666666,
          "yanchor": "bottom",
          "yref": "paper"
         },
         {
          "font": {},
          "showarrow": false,
          "text": "month=11",
          "x": 0.6275,
          "xanchor": "center",
          "xref": "paper",
          "y": 0.2866666666666666,
          "yanchor": "bottom",
          "yref": "paper"
         },
         {
          "font": {},
          "showarrow": false,
          "text": "month=12",
          "x": 0.8824999999999998,
          "xanchor": "center",
          "xref": "paper",
          "y": 0.2866666666666666,
          "yanchor": "bottom",
          "yref": "paper"
         },
         {
          "font": {},
          "showarrow": false,
          "text": "month=5",
          "x": 0.1175,
          "xanchor": "center",
          "xref": "paper",
          "y": 0.6433333333333333,
          "yanchor": "bottom",
          "yref": "paper"
         },
         {
          "font": {},
          "showarrow": false,
          "text": "month=6",
          "x": 0.3725,
          "xanchor": "center",
          "xref": "paper",
          "y": 0.6433333333333333,
          "yanchor": "bottom",
          "yref": "paper"
         },
         {
          "font": {},
          "showarrow": false,
          "text": "month=7",
          "x": 0.6275,
          "xanchor": "center",
          "xref": "paper",
          "y": 0.6433333333333333,
          "yanchor": "bottom",
          "yref": "paper"
         },
         {
          "font": {},
          "showarrow": false,
          "text": "month=8",
          "x": 0.8824999999999998,
          "xanchor": "center",
          "xref": "paper",
          "y": 0.6433333333333333,
          "yanchor": "bottom",
          "yref": "paper"
         },
         {
          "font": {},
          "showarrow": false,
          "text": "month=1",
          "x": 0.1175,
          "xanchor": "center",
          "xref": "paper",
          "y": 0.9999999999999999,
          "yanchor": "bottom",
          "yref": "paper"
         },
         {
          "font": {},
          "showarrow": false,
          "text": "month=2",
          "x": 0.3725,
          "xanchor": "center",
          "xref": "paper",
          "y": 0.9999999999999999,
          "yanchor": "bottom",
          "yref": "paper"
         },
         {
          "font": {},
          "showarrow": false,
          "text": "month=3",
          "x": 0.6275,
          "xanchor": "center",
          "xref": "paper",
          "y": 0.9999999999999999,
          "yanchor": "bottom",
          "yref": "paper"
         },
         {
          "font": {},
          "showarrow": false,
          "text": "month=4",
          "x": 0.8824999999999998,
          "xanchor": "center",
          "xref": "paper",
          "y": 0.9999999999999999,
          "yanchor": "bottom",
          "yref": "paper"
         }
        ],
        "legend": {
         "title": {
          "text": "variable"
         },
         "tracegroupgap": 0
        },
        "template": {
         "data": {
          "bar": [
           {
            "error_x": {
             "color": "#2a3f5f"
            },
            "error_y": {
             "color": "#2a3f5f"
            },
            "marker": {
             "line": {
              "color": "#E5ECF6",
              "width": 0.5
             },
             "pattern": {
              "fillmode": "overlay",
              "size": 10,
              "solidity": 0.2
             }
            },
            "type": "bar"
           }
          ],
          "barpolar": [
           {
            "marker": {
             "line": {
              "color": "#E5ECF6",
              "width": 0.5
             },
             "pattern": {
              "fillmode": "overlay",
              "size": 10,
              "solidity": 0.2
             }
            },
            "type": "barpolar"
           }
          ],
          "carpet": [
           {
            "aaxis": {
             "endlinecolor": "#2a3f5f",
             "gridcolor": "white",
             "linecolor": "white",
             "minorgridcolor": "white",
             "startlinecolor": "#2a3f5f"
            },
            "baxis": {
             "endlinecolor": "#2a3f5f",
             "gridcolor": "white",
             "linecolor": "white",
             "minorgridcolor": "white",
             "startlinecolor": "#2a3f5f"
            },
            "type": "carpet"
           }
          ],
          "choropleth": [
           {
            "colorbar": {
             "outlinewidth": 0,
             "ticks": ""
            },
            "type": "choropleth"
           }
          ],
          "contour": [
           {
            "colorbar": {
             "outlinewidth": 0,
             "ticks": ""
            },
            "colorscale": [
             [
              0,
              "#0d0887"
             ],
             [
              0.1111111111111111,
              "#46039f"
             ],
             [
              0.2222222222222222,
              "#7201a8"
             ],
             [
              0.3333333333333333,
              "#9c179e"
             ],
             [
              0.4444444444444444,
              "#bd3786"
             ],
             [
              0.5555555555555556,
              "#d8576b"
             ],
             [
              0.6666666666666666,
              "#ed7953"
             ],
             [
              0.7777777777777778,
              "#fb9f3a"
             ],
             [
              0.8888888888888888,
              "#fdca26"
             ],
             [
              1,
              "#f0f921"
             ]
            ],
            "type": "contour"
           }
          ],
          "contourcarpet": [
           {
            "colorbar": {
             "outlinewidth": 0,
             "ticks": ""
            },
            "type": "contourcarpet"
           }
          ],
          "heatmap": [
           {
            "colorbar": {
             "outlinewidth": 0,
             "ticks": ""
            },
            "colorscale": [
             [
              0,
              "#0d0887"
             ],
             [
              0.1111111111111111,
              "#46039f"
             ],
             [
              0.2222222222222222,
              "#7201a8"
             ],
             [
              0.3333333333333333,
              "#9c179e"
             ],
             [
              0.4444444444444444,
              "#bd3786"
             ],
             [
              0.5555555555555556,
              "#d8576b"
             ],
             [
              0.6666666666666666,
              "#ed7953"
             ],
             [
              0.7777777777777778,
              "#fb9f3a"
             ],
             [
              0.8888888888888888,
              "#fdca26"
             ],
             [
              1,
              "#f0f921"
             ]
            ],
            "type": "heatmap"
           }
          ],
          "histogram": [
           {
            "marker": {
             "pattern": {
              "fillmode": "overlay",
              "size": 10,
              "solidity": 0.2
             }
            },
            "type": "histogram"
           }
          ],
          "histogram2d": [
           {
            "colorbar": {
             "outlinewidth": 0,
             "ticks": ""
            },
            "colorscale": [
             [
              0,
              "#0d0887"
             ],
             [
              0.1111111111111111,
              "#46039f"
             ],
             [
              0.2222222222222222,
              "#7201a8"
             ],
             [
              0.3333333333333333,
              "#9c179e"
             ],
             [
              0.4444444444444444,
              "#bd3786"
             ],
             [
              0.5555555555555556,
              "#d8576b"
             ],
             [
              0.6666666666666666,
              "#ed7953"
             ],
             [
              0.7777777777777778,
              "#fb9f3a"
             ],
             [
              0.8888888888888888,
              "#fdca26"
             ],
             [
              1,
              "#f0f921"
             ]
            ],
            "type": "histogram2d"
           }
          ],
          "histogram2dcontour": [
           {
            "colorbar": {
             "outlinewidth": 0,
             "ticks": ""
            },
            "colorscale": [
             [
              0,
              "#0d0887"
             ],
             [
              0.1111111111111111,
              "#46039f"
             ],
             [
              0.2222222222222222,
              "#7201a8"
             ],
             [
              0.3333333333333333,
              "#9c179e"
             ],
             [
              0.4444444444444444,
              "#bd3786"
             ],
             [
              0.5555555555555556,
              "#d8576b"
             ],
             [
              0.6666666666666666,
              "#ed7953"
             ],
             [
              0.7777777777777778,
              "#fb9f3a"
             ],
             [
              0.8888888888888888,
              "#fdca26"
             ],
             [
              1,
              "#f0f921"
             ]
            ],
            "type": "histogram2dcontour"
           }
          ],
          "mesh3d": [
           {
            "colorbar": {
             "outlinewidth": 0,
             "ticks": ""
            },
            "type": "mesh3d"
           }
          ],
          "parcoords": [
           {
            "line": {
             "colorbar": {
              "outlinewidth": 0,
              "ticks": ""
             }
            },
            "type": "parcoords"
           }
          ],
          "pie": [
           {
            "automargin": true,
            "type": "pie"
           }
          ],
          "scatter": [
           {
            "fillpattern": {
             "fillmode": "overlay",
             "size": 10,
             "solidity": 0.2
            },
            "type": "scatter"
           }
          ],
          "scatter3d": [
           {
            "line": {
             "colorbar": {
              "outlinewidth": 0,
              "ticks": ""
             }
            },
            "marker": {
             "colorbar": {
              "outlinewidth": 0,
              "ticks": ""
             }
            },
            "type": "scatter3d"
           }
          ],
          "scattercarpet": [
           {
            "marker": {
             "colorbar": {
              "outlinewidth": 0,
              "ticks": ""
             }
            },
            "type": "scattercarpet"
           }
          ],
          "scattergeo": [
           {
            "marker": {
             "colorbar": {
              "outlinewidth": 0,
              "ticks": ""
             }
            },
            "type": "scattergeo"
           }
          ],
          "scattergl": [
           {
            "marker": {
             "colorbar": {
              "outlinewidth": 0,
              "ticks": ""
             }
            },
            "type": "scattergl"
           }
          ],
          "scattermap": [
           {
            "marker": {
             "colorbar": {
              "outlinewidth": 0,
              "ticks": ""
             }
            },
            "type": "scattermap"
           }
          ],
          "scattermapbox": [
           {
            "marker": {
             "colorbar": {
              "outlinewidth": 0,
              "ticks": ""
             }
            },
            "type": "scattermapbox"
           }
          ],
          "scatterpolar": [
           {
            "marker": {
             "colorbar": {
              "outlinewidth": 0,
              "ticks": ""
             }
            },
            "type": "scatterpolar"
           }
          ],
          "scatterpolargl": [
           {
            "marker": {
             "colorbar": {
              "outlinewidth": 0,
              "ticks": ""
             }
            },
            "type": "scatterpolargl"
           }
          ],
          "scatterternary": [
           {
            "marker": {
             "colorbar": {
              "outlinewidth": 0,
              "ticks": ""
             }
            },
            "type": "scatterternary"
           }
          ],
          "surface": [
           {
            "colorbar": {
             "outlinewidth": 0,
             "ticks": ""
            },
            "colorscale": [
             [
              0,
              "#0d0887"
             ],
             [
              0.1111111111111111,
              "#46039f"
             ],
             [
              0.2222222222222222,
              "#7201a8"
             ],
             [
              0.3333333333333333,
              "#9c179e"
             ],
             [
              0.4444444444444444,
              "#bd3786"
             ],
             [
              0.5555555555555556,
              "#d8576b"
             ],
             [
              0.6666666666666666,
              "#ed7953"
             ],
             [
              0.7777777777777778,
              "#fb9f3a"
             ],
             [
              0.8888888888888888,
              "#fdca26"
             ],
             [
              1,
              "#f0f921"
             ]
            ],
            "type": "surface"
           }
          ],
          "table": [
           {
            "cells": {
             "fill": {
              "color": "#EBF0F8"
             },
             "line": {
              "color": "white"
             }
            },
            "header": {
             "fill": {
              "color": "#C8D4E3"
             },
             "line": {
              "color": "white"
             }
            },
            "type": "table"
           }
          ]
         },
         "layout": {
          "annotationdefaults": {
           "arrowcolor": "#2a3f5f",
           "arrowhead": 0,
           "arrowwidth": 1
          },
          "autotypenumbers": "strict",
          "coloraxis": {
           "colorbar": {
            "outlinewidth": 0,
            "ticks": ""
           }
          },
          "colorscale": {
           "diverging": [
            [
             0,
             "#8e0152"
            ],
            [
             0.1,
             "#c51b7d"
            ],
            [
             0.2,
             "#de77ae"
            ],
            [
             0.3,
             "#f1b6da"
            ],
            [
             0.4,
             "#fde0ef"
            ],
            [
             0.5,
             "#f7f7f7"
            ],
            [
             0.6,
             "#e6f5d0"
            ],
            [
             0.7,
             "#b8e186"
            ],
            [
             0.8,
             "#7fbc41"
            ],
            [
             0.9,
             "#4d9221"
            ],
            [
             1,
             "#276419"
            ]
           ],
           "sequential": [
            [
             0,
             "#0d0887"
            ],
            [
             0.1111111111111111,
             "#46039f"
            ],
            [
             0.2222222222222222,
             "#7201a8"
            ],
            [
             0.3333333333333333,
             "#9c179e"
            ],
            [
             0.4444444444444444,
             "#bd3786"
            ],
            [
             0.5555555555555556,
             "#d8576b"
            ],
            [
             0.6666666666666666,
             "#ed7953"
            ],
            [
             0.7777777777777778,
             "#fb9f3a"
            ],
            [
             0.8888888888888888,
             "#fdca26"
            ],
            [
             1,
             "#f0f921"
            ]
           ],
           "sequentialminus": [
            [
             0,
             "#0d0887"
            ],
            [
             0.1111111111111111,
             "#46039f"
            ],
            [
             0.2222222222222222,
             "#7201a8"
            ],
            [
             0.3333333333333333,
             "#9c179e"
            ],
            [
             0.4444444444444444,
             "#bd3786"
            ],
            [
             0.5555555555555556,
             "#d8576b"
            ],
            [
             0.6666666666666666,
             "#ed7953"
            ],
            [
             0.7777777777777778,
             "#fb9f3a"
            ],
            [
             0.8888888888888888,
             "#fdca26"
            ],
            [
             1,
             "#f0f921"
            ]
           ]
          },
          "colorway": [
           "#636efa",
           "#EF553B",
           "#00cc96",
           "#ab63fa",
           "#FFA15A",
           "#19d3f3",
           "#FF6692",
           "#B6E880",
           "#FF97FF",
           "#FECB52"
          ],
          "font": {
           "color": "#2a3f5f"
          },
          "geo": {
           "bgcolor": "white",
           "lakecolor": "white",
           "landcolor": "#E5ECF6",
           "showlakes": true,
           "showland": true,
           "subunitcolor": "white"
          },
          "hoverlabel": {
           "align": "left"
          },
          "hovermode": "closest",
          "mapbox": {
           "style": "light"
          },
          "paper_bgcolor": "white",
          "plot_bgcolor": "#E5ECF6",
          "polar": {
           "angularaxis": {
            "gridcolor": "white",
            "linecolor": "white",
            "ticks": ""
           },
           "bgcolor": "#E5ECF6",
           "radialaxis": {
            "gridcolor": "white",
            "linecolor": "white",
            "ticks": ""
           }
          },
          "scene": {
           "xaxis": {
            "backgroundcolor": "#E5ECF6",
            "gridcolor": "white",
            "gridwidth": 2,
            "linecolor": "white",
            "showbackground": true,
            "ticks": "",
            "zerolinecolor": "white"
           },
           "yaxis": {
            "backgroundcolor": "#E5ECF6",
            "gridcolor": "white",
            "gridwidth": 2,
            "linecolor": "white",
            "showbackground": true,
            "ticks": "",
            "zerolinecolor": "white"
           },
           "zaxis": {
            "backgroundcolor": "#E5ECF6",
            "gridcolor": "white",
            "gridwidth": 2,
            "linecolor": "white",
            "showbackground": true,
            "ticks": "",
            "zerolinecolor": "white"
           }
          },
          "shapedefaults": {
           "line": {
            "color": "#2a3f5f"
           }
          },
          "ternary": {
           "aaxis": {
            "gridcolor": "white",
            "linecolor": "white",
            "ticks": ""
           },
           "baxis": {
            "gridcolor": "white",
            "linecolor": "white",
            "ticks": ""
           },
           "bgcolor": "#E5ECF6",
           "caxis": {
            "gridcolor": "white",
            "linecolor": "white",
            "ticks": ""
           }
          },
          "title": {
           "x": 0.05
          },
          "xaxis": {
           "automargin": true,
           "gridcolor": "white",
           "linecolor": "white",
           "ticks": "",
           "title": {
            "standoff": 15
           },
           "zerolinecolor": "white",
           "zerolinewidth": 2
          },
          "yaxis": {
           "automargin": true,
           "gridcolor": "white",
           "linecolor": "white",
           "ticks": "",
           "title": {
            "standoff": 15
           },
           "zerolinecolor": "white",
           "zerolinewidth": 2
          }
         }
        },
        "title": {
         "text": "Hourly Average Energy Profiles by Month"
        },
        "xaxis": {
         "anchor": "y",
         "domain": [
          0,
          0.235
         ],
         "title": {
          "text": "Hour of Day"
         }
        },
        "xaxis10": {
         "anchor": "y10",
         "domain": [
          0.255,
          0.49
         ],
         "matches": "x",
         "showticklabels": false
        },
        "xaxis11": {
         "anchor": "y11",
         "domain": [
          0.51,
          0.745
         ],
         "matches": "x",
         "showticklabels": false
        },
        "xaxis12": {
         "anchor": "y12",
         "domain": [
          0.7649999999999999,
          0.9999999999999999
         ],
         "matches": "x",
         "showticklabels": false
        },
        "xaxis2": {
         "anchor": "y2",
         "domain": [
          0.255,
          0.49
         ],
         "matches": "x",
         "title": {
          "text": "Hour of Day"
         }
        },
        "xaxis3": {
         "anchor": "y3",
         "domain": [
          0.51,
          0.745
         ],
         "matches": "x",
         "title": {
          "text": "Hour of Day"
         }
        },
        "xaxis4": {
         "anchor": "y4",
         "domain": [
          0.7649999999999999,
          0.9999999999999999
         ],
         "matches": "x",
         "title": {
          "text": "Hour of Day"
         }
        },
        "xaxis5": {
         "anchor": "y5",
         "domain": [
          0,
          0.235
         ],
         "matches": "x",
         "showticklabels": false
        },
        "xaxis6": {
         "anchor": "y6",
         "domain": [
          0.255,
          0.49
         ],
         "matches": "x",
         "showticklabels": false
        },
        "xaxis7": {
         "anchor": "y7",
         "domain": [
          0.51,
          0.745
         ],
         "matches": "x",
         "showticklabels": false
        },
        "xaxis8": {
         "anchor": "y8",
         "domain": [
          0.7649999999999999,
          0.9999999999999999
         ],
         "matches": "x",
         "showticklabels": false
        },
        "xaxis9": {
         "anchor": "y9",
         "domain": [
          0,
          0.235
         ],
         "matches": "x",
         "showticklabels": false
        },
        "yaxis": {
         "anchor": "x",
         "domain": [
          0,
          0.2866666666666666
         ],
         "title": {
          "text": "Energy (kWh)"
         }
        },
        "yaxis10": {
         "anchor": "x10",
         "domain": [
          0.7133333333333333,
          0.9999999999999999
         ],
         "matches": "y",
         "showticklabels": false
        },
        "yaxis11": {
         "anchor": "x11",
         "domain": [
          0.7133333333333333,
          0.9999999999999999
         ],
         "matches": "y",
         "showticklabels": false
        },
        "yaxis12": {
         "anchor": "x12",
         "domain": [
          0.7133333333333333,
          0.9999999999999999
         ],
         "matches": "y",
         "showticklabels": false
        },
        "yaxis2": {
         "anchor": "x2",
         "domain": [
          0,
          0.2866666666666666
         ],
         "matches": "y",
         "showticklabels": false
        },
        "yaxis3": {
         "anchor": "x3",
         "domain": [
          0,
          0.2866666666666666
         ],
         "matches": "y",
         "showticklabels": false
        },
        "yaxis4": {
         "anchor": "x4",
         "domain": [
          0,
          0.2866666666666666
         ],
         "matches": "y",
         "showticklabels": false
        },
        "yaxis5": {
         "anchor": "x5",
         "domain": [
          0.35666666666666663,
          0.6433333333333333
         ],
         "matches": "y",
         "title": {
          "text": "Energy (kWh)"
         }
        },
        "yaxis6": {
         "anchor": "x6",
         "domain": [
          0.35666666666666663,
          0.6433333333333333
         ],
         "matches": "y",
         "showticklabels": false
        },
        "yaxis7": {
         "anchor": "x7",
         "domain": [
          0.35666666666666663,
          0.6433333333333333
         ],
         "matches": "y",
         "showticklabels": false
        },
        "yaxis8": {
         "anchor": "x8",
         "domain": [
          0.35666666666666663,
          0.6433333333333333
         ],
         "matches": "y",
         "showticklabels": false
        },
        "yaxis9": {
         "anchor": "x9",
         "domain": [
          0.7133333333333333,
          0.9999999999999999
         ],
         "matches": "y",
         "title": {
          "text": "Energy (kWh)"
         }
        }
       }
      }
     },
     "metadata": {},
     "output_type": "display_data"
    }
   ],
   "source": [
    "# Compute hourly average profiles by month\n",
    "df_avg = df.groupby([\"month\", \"hour\"]).mean().reset_index()\n",
    "\n",
    "# Create a time column for visualization\n",
    "df_avg[\"time\"] = df_avg[\"hour\"].astype(str) + \":00\"\n",
    "\n",
    "# Plot the data with one subplot per month\n",
    "fig = px.line(df_avg, x=\"time\", y=[\"kWh\", \"solar_kWh\", \"netConsumption\"],\n",
    "              facet_col=\"month\", facet_col_wrap=4,\n",
    "              labels={\"value\": \"Energy (kWh)\", \"time\": \"Hour of Day\"},\n",
    "              title=\"Hourly Average Energy Profiles by Month\")\n",
    "\n",
    "# Show the interactive chart\n",
    "fig.show()"
   ]
  },
  {
   "cell_type": "markdown",
   "metadata": {},
   "source": [
    "Aqui els podem veure un per un."
   ]
  },
  {
   "cell_type": "code",
   "execution_count": 4,
   "metadata": {},
   "outputs": [],
   "source": [
    "def monthly_plot(month, kw=200):\n",
    "    \n",
    "    df_filtered = df[df[\"month\"] == month]\n",
    "\n",
    "    # Update kWh solar to scale with kw\n",
    "    df_filtered.loc[:,[\"solar_kWh\"]] = df_filtered[\"solar_kWh\"] * kw / 200\n",
    "    df_filtered.loc[:,[\"netConsumption\"]] = df_filtered[\"kWh\"] - df_filtered[\"solar_kWh\"]\n",
    "    \n",
    "    # Create averages\n",
    "    df_avg = df_filtered.groupby(\"hour\").mean().reset_index()\n",
    "    df_avg[\"time\"] = df_avg[\"hour\"].astype(str) + \":00\"\n",
    "\n",
    "    # Plot the data\n",
    "    fig = px.line(df_avg, x=\"time\", y=[\"kWh\", \"solar_kWh\", \"netConsumption\"],\n",
    "                  labels={\"value\": \"Energy (kWh)\", \"time\": \"Hour of Day\"},\n",
    "                  title=f\"Hourly Average Energy Profile - Month {month}\");\n",
    "    \n",
    "    fig.show()"
   ]
  },
  {
   "cell_type": "code",
   "execution_count": 5,
   "metadata": {},
   "outputs": [
    {
     "data": {
      "application/vnd.jupyter.widget-view+json": {
       "model_id": "f214d0041eae4b608ae804fb1378f1d6",
       "version_major": 2,
       "version_minor": 0
      },
      "text/plain": [
       "interactive(children=(Dropdown(description='Month:', options=(('Month 1', 1), ('Month 2', 2), ('Month 3', 3), …"
      ]
     },
     "execution_count": 5,
     "metadata": {},
     "output_type": "execute_result"
    }
   ],
   "source": [
    "widgets.interactive(monthly_plot, month=month_selector, kw=kw_range)"
   ]
  },
  {
   "cell_type": "markdown",
   "metadata": {},
   "source": [
    "Tambe podem pensar en els patrons de consum de la setmana."
   ]
  },
  {
   "cell_type": "code",
   "execution_count": 6,
   "metadata": {},
   "outputs": [],
   "source": [
    "def weekly_plot(month, kw=200):\n",
    "    df_filtered = df[df[\"month\"] == month]\n",
    "    # update kWh solar to scale with kw\n",
    "    df_filtered.loc[:,[\"solar_kWh\"]] = df_filtered[\"solar_kWh\"] * kw / 200\n",
    "    df_filtered.loc[:,[\"netConsumption\"]] = df_filtered[\"kWh\"] - df_filtered[\"solar_kWh\"]\n",
    "    df_avg_week = df_filtered.groupby([\"hour\",\"dow\"]).mean().reset_index()\n",
    "    \n",
    "    # Create a time column that ensures correct ordering\n",
    "    df_avg_week[\"time\"] = df_avg_week[\"dow\"] * 24 + df_avg_week[\"hour\"]\n",
    "\n",
    "    # Sort by day of the week and hour to maintain correct order\n",
    "    df_avg_week = df_avg_week.sort_values(by=[\"month\", \"dow\", \"hour\"])\n",
    "\n",
    "\n",
    "    # Plot the data with one subplot per month\n",
    "    fig = px.line(df_avg_week, x=\"time\", y=[\"kWh\", \"solar_kWh\", \"netConsumption\"],\n",
    "                facet_col=\"month\", facet_col_wrap=4,\n",
    "                labels={\"value\": \"Energy (kWh)\", \"time\": \"Day-Hour\"},\n",
    "                title=\"Weekly Hourly Average Energy Profiles by Month (168 Hours)\")\n",
    "    \n",
    "    # Show the interactive chart\n",
    "    fig.show()"
   ]
  },
  {
   "cell_type": "code",
   "execution_count": 9,
   "metadata": {},
   "outputs": [
    {
     "data": {
      "application/vnd.jupyter.widget-view+json": {
       "model_id": "97c2549d0cfe48b29773d1c72d6b7248",
       "version_major": 2,
       "version_minor": 0
      },
      "text/plain": [
       "interactive(children=(Dropdown(description='Month:', options=(('Month 1', 1), ('Month 2', 2), ('Month 3', 3), …"
      ]
     },
     "execution_count": 9,
     "metadata": {},
     "output_type": "execute_result"
    }
   ],
   "source": [
    "widgets.interactive(weekly_plot, month=month_selector, kw=kw_range)"
   ]
  },
  {
   "cell_type": "markdown",
   "metadata": {},
   "source": [
    "### 3) Com calcular el benefici anual de la instal·lació solar fotovoltaica?"
   ]
  },
  {
   "cell_type": "code",
   "execution_count": 10,
   "metadata": {},
   "outputs": [],
   "source": [
    "def economic_benefit(electricity_price_out = 5):\n",
    "    # Defining the benefit as a function of the electricity price\n",
    "    electricity_price_in = np.array([x for x in range(100, 400, 10)])\n",
    "    benefit = [(sum(df[df[\"netConsumption\"]>0][\"solar_kWh\"])*p + sum(df[df[\"netConsumption\"]<=0][\"kWh\"])*p\n",
    "               - sum(df[df[\"netConsumption\"]<=0][\"netConsumption\"])*electricity_price_out)/1000.0 for p in electricity_price_in]\n",
    "    \n",
    "    # Plot the benefit as a function of cost per ton\n",
    "    fig = px.line(x=electricity_price_in, y=benefit, labels={\"x\": \"Electricity price (EUR/MWh)\", \"y\": \"Savings per year (EUR)\"}, title=\"Economic Benefit of Solar Panels\")\n",
    "    \n",
    "    # Show the interactive chart\n",
    "    fig.show()"
   ]
  },
  {
   "cell_type": "code",
   "execution_count": 11,
   "metadata": {},
   "outputs": [
    {
     "data": {
      "application/vnd.jupyter.widget-view+json": {
       "model_id": "126ea425a7f843e5b386c58654a28c19",
       "version_major": 2,
       "version_minor": 0
      },
      "text/plain": [
       "interactive(children=(FloatSlider(value=5.0, description='Price for solar output:', max=300.0, step=0.05), Out…"
      ]
     },
     "execution_count": 11,
     "metadata": {},
     "output_type": "execute_result"
    }
   ],
   "source": [
    "widgets.interactive(economic_benefit, electricity_price_out=price_range)"
   ]
  },
  {
   "cell_type": "code",
   "execution_count": 12,
   "metadata": {},
   "outputs": [],
   "source": [
    "def factura_amb_i_sense(electricity_price_out = 5):\n",
    "    # Defining the benefit as a function of the electricity price\n",
    "    electricity_price_in = np.array([x for x in range(100, 400, 10)])\n",
    "    cost_nosolar = [sum(df[\"kWh\"])*p/1000.0 for p in electricity_price_in]\n",
    "    cost_solar =  [(sum(df[df[\"netConsumption\"]>0][\"netConsumption\"])*p +\n",
    "               + sum(df[df[\"netConsumption\"]<=0][\"netConsumption\"])*electricity_price_out)/1000.0 for p in electricity_price_in]\n",
    "    \n",
    "    # Plot the two costs with legend \n",
    "    fig = px.line(x=electricity_price_in, y=cost_nosolar, labels={\"x\": \"Electricity price (EUR/MWh)\", \"y\": \"Cost per year (EUR)\"}, title=\"Annual cost of electricity\")\n",
    "    fig.add_scatter(x=electricity_price_in, y=cost_solar, mode=\"lines\", name=\"With solar panels\", line=dict(dash=\"dash\"))\n",
    "\n",
    "    # Show the interactive chart\n",
    "    fig.show()"
   ]
  },
  {
   "cell_type": "code",
   "execution_count": 13,
   "metadata": {},
   "outputs": [
    {
     "data": {
      "application/vnd.jupyter.widget-view+json": {
       "model_id": "ea96bce3cbd5488092f9855783bee30f",
       "version_major": 2,
       "version_minor": 0
      },
      "text/plain": [
       "interactive(children=(FloatSlider(value=5.0, description='Price for solar output:', max=300.0, step=0.05), Out…"
      ]
     },
     "execution_count": 13,
     "metadata": {},
     "output_type": "execute_result"
    }
   ],
   "source": [
    "widgets.interactive(factura_amb_i_sense, electricity_price_out=price_range)"
   ]
  },
  {
   "cell_type": "markdown",
   "metadata": {},
   "source": [
    "### 4) Com calcular el benefici ambiental de la instal·lació solar fotovoltaica?"
   ]
  },
  {
   "cell_type": "code",
   "execution_count": 14,
   "metadata": {},
   "outputs": [],
   "source": [
    "def environmental_benefit(kw=200, avoided_emissions=0.35):\n",
    "    \n",
    "    # Definining the benefit as a function of the cost per ton\n",
    "    cost_per_ton = np.array([x * 1.0 for x in range(0, 200, 5)])\n",
    "    benefit = sum(df[\"solar_kWh\"]) * kw / 200.0 * avoided_emissions * cost_per_ton / 1000.0\n",
    "    \n",
    "    # Plot the benefit as a function of cost per ton\n",
    "    fig = px.line(x=cost_per_ton, y=benefit, labels={\"x\": \"Cost per Ton (EUR/MWh)\", \"y\": \"Benefit per year (EUR)\"}, title=\"Environmental Benefit of Solar Panels\")\n",
    "    \n",
    "    # Show the interactive chart\n",
    "    fig.show()"
   ]
  },
  {
   "cell_type": "code",
   "execution_count": 15,
   "metadata": {},
   "outputs": [
    {
     "data": {
      "application/vnd.jupyter.widget-view+json": {
       "model_id": "727ef8fe5c0e477db66decbdc8a8c9c6",
       "version_major": 2,
       "version_minor": 0
      },
      "text/plain": [
       "interactive(children=(FloatSlider(value=200.0, description='Kw:', max=200.0, step=10.0), FloatSlider(value=0.3…"
      ]
     },
     "execution_count": 15,
     "metadata": {},
     "output_type": "execute_result"
    }
   ],
   "source": [
    "widgets.interactive(environmental_benefit, kw=kw_range, avoided_emissions=avoided_emission_range)"
   ]
  }
 ],
 "metadata": {
  "kernelspec": {
   "display_name": "Python 3",
   "language": "python",
   "name": "python3"
  },
  "language_info": {
   "codemirror_mode": {
    "name": "ipython",
    "version": 3
   },
   "file_extension": ".py",
   "mimetype": "text/x-python",
   "name": "python",
   "nbconvert_exporter": "python",
   "pygments_lexer": "ipython3",
   "version": "3.9.6"
  }
 },
 "nbformat": 4,
 "nbformat_minor": 2
}
